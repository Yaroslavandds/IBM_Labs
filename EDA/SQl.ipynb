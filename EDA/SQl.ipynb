{
 "cells": [
  {
   "cell_type": "code",
   "execution_count": null,
   "id": "ae153f1b-2b27-4f36-8a1b-9ce4996883fc",
   "metadata": {},
   "outputs": [],
   "source": [
    "  IF Leaders_Score BETWEEN 80 and 99 THEN\n",
    "        UPDATE CHICAGO_PUBLIC_SCHOOLS\n",
    "        SET =  Leaders_Score\n",
    "        WHERE = School_ID\n",
    "    \n",
    "    ELSEIF Leaders_Score BETWEEN 60 AND 79 THEN\n",
    "        \n",
    "    ELSEIF Leaders_Score BETWEEN 50 AND 59 THEN\n",
    "    ELSEIF Leaders_Score BETWEEN 20 AND 39 THEN\n",
    "    ELSE \n",
    "    SET = Leaders_Icon"
   ]
  },
  {
   "cell_type": "code",
   "execution_count": null,
   "id": "a541e360-1767-4cbe-a518-e25fccc269ef",
   "metadata": {},
   "outputs": [],
   "source": [
    "DELIMITER $$\n",
    "\n",
    "CREATE PROCEDURE UPDATE_LEADERS_SCORE (\n",
    "    IN in_School_ID INTEGER,\n",
    "    IN in_Leader_Score INTEGER\n",
    ")\n",
    "BEGIN \n",
    "    UPDATE `CHICAGO_PUBLIC_SCHOOLS`\n",
    "    SET Leaders_Score = in_Leader_Score\n",
    "    WHERE School_ID = in_School_ID;\n",
    "    \n",
    "    IF in_Leader_Score BETWEEN 80 AND 99 THEN\n",
    "        UPDATE `CHICAGO_PUBLIC_SCHOOLS`\n",
    "        SET Leaders_Icon = 'Very strong'\n",
    "        WHERE School_ID = in_School_ID;\n",
    "    ELSEIF in_Leader_Score BETWEEN 60 AND 79 THEN\n",
    "        UPDATE `CHICAGO_PUBLIC_SCHOOLS`\n",
    "        SET Leaders_Icon = 'Strong'\n",
    "        WHERE School_ID = in_School_ID;\n",
    "    ELSEIF in_Leader_Score BETWEEN 40 AND 59 THEN\n",
    "        UPDATE `CHICAGO_PUBLIC_SCHOOLS`\n",
    "        SET Leaders_Icon = 'Average'\n",
    "        WHERE School_ID = in_School_ID;\n",
    "    ELSEIF in_Leader_Score BETWEEN 20 AND 39 THEN\n",
    "        UPDATE `CHICAGO_PUBLIC_SCHOOLS`\n",
    "        SET Leaders_Icon = 'Weak'\n",
    "        WHERE School_ID = in_School_ID;\n",
    "    ELSEIF in_Leader_Score < 20 THEN\n",
    "        UPDATE `CHICAGO_PUBLIC_SCHOOLS`\n",
    "        SET Leaders_Icon = 'Very weak'\n",
    "        WHERE School_ID = in_School_ID;\n",
    "    END IF;\n",
    "END$$\n",
    "\n",
    "DELIMITER ;\n"
   ]
  }
 ],
 "metadata": {
  "kernelspec": {
   "display_name": "Python 3 (ipykernel)",
   "language": "python",
   "name": "python3"
  },
  "language_info": {
   "codemirror_mode": {
    "name": "ipython",
    "version": 3
   },
   "file_extension": ".py",
   "mimetype": "text/x-python",
   "name": "python",
   "nbconvert_exporter": "python",
   "pygments_lexer": "ipython3",
   "version": "3.12.4"
  }
 },
 "nbformat": 4,
 "nbformat_minor": 5
}
