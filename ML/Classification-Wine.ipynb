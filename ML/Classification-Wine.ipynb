{
 "cells": [
  {
   "cell_type": "markdown",
   "metadata": {},
   "source": [
    "# Import software libraries and load the dataset #"
   ]
  },
  {
   "cell_type": "code",
   "execution_count": null,
   "metadata": {},
   "outputs": [],
   "source": [
    "import sys                             # Read system parameters.\n",
    "import numpy as np                     # Work with multi-dimensional arrays and matrices.\n",
    "import pandas as pd                    # Manipulate and analyze data.\n",
    "import matplotlib as mpl               # Create 2D charts.\n",
    "import matplotlib.pyplot as plt\n",
    "import sklearn                         # Perform data mining and analysis.\n",
    "from sklearn import datasets\n",
    "from sklearn.utils import shuffle\n",
    "from time import time                  # Calculate training time.\n",
    "import math\n",
    "\n",
    "# Summarize software libraries used.\n",
    "print('Libraries used in this project:')\n",
    "print('- Python {}'.format(sys.version))\n",
    "print('- NumPy {}'.format(np.__version__))\n",
    "print('- pandas {}'.format(pd.__version__))\n",
    "print('- Matplotlib {}'.format(mpl.__version__))\n",
    "print('- scikit-learn {}\\n'.format(sklearn.__version__))\n",
    "\n",
    "# Load the dataset.\n",
    "wine = datasets.load_wine()\n",
    "print('Loaded {} records.'.format(len(wine.data)))"
   ]
  },
  {
   "cell_type": "markdown",
   "metadata": {},
   "source": [
    "# Get acquainted with the dataset #"
   ]
  },
  {
   "cell_type": "code",
   "execution_count": null,
   "metadata": {},
   "outputs": [],
   "source": [
    "# Convert array to pandas DataFrame.\n",
    "data_raw = pd.DataFrame(wine['data'], columns=wine['feature_names'])\n",
    "data_raw['target'] = wine['target']\n",
    "\n",
    "# Shuffle the dataset.\n",
    "data_raw = shuffle(data_raw.copy(), random_state = 765)\n",
    "data_raw.reset_index(inplace = True, drop = True)\n",
    "\n",
    "print(data_raw.info())      # View data types and see if there are missing entries.\n",
    "data_raw.head(10)           # View first 10 records."
   ]
  },
  {
   "cell_type": "markdown",
   "metadata": {},
   "source": [
    "# Examine a general summary of statistics"
   ]
  },
  {
   "cell_type": "code",
   "execution_count": null,
   "metadata": {},
   "outputs": [],
   "source": [
    "with pd.option_context('float_format', '{:.2f}'.format): \n",
    "    print(data_raw.describe())"
   ]
  },
  {
   "cell_type": "markdown",
   "metadata": {},
   "source": [
    "# Examine the distribution of various features"
   ]
  },
  {
   "cell_type": "code",
   "execution_count": null,
   "metadata": {},
   "outputs": [],
   "source": [
    "# Use Matplotlib to plot figures.\n",
    "%matplotlib inline\n",
    "mpl.rc('axes', labelsize = 14)\n",
    "mpl.rc('xtick', labelsize = 12)\n",
    "mpl.rc('ytick', labelsize = 12)\n",
    "\n",
    "data_raw.hist(figsize = (20, 15));\n",
    "plt.figure();"
   ]
  },
  {
   "cell_type": "markdown",
   "metadata": {},
   "source": [
    "# Split the label from the dataset"
   ]
  },
  {
   "cell_type": "code",
   "execution_count": null,
   "metadata": {},
   "outputs": [],
   "source": [
    "# 'target' is the dependent variable (value to be predicted), so it will be\n",
    "# removed from the training data and put into a separate DataFrame for labels.\n",
    "label_columns = ['target']\n",
    "\n",
    "training_columns = ['alcohol', 'malic_acid', 'ash', 'alcalinity_of_ash', 'magnesium', 'total_phenols', 'flavanoids', 'nonflavanoid_phenols', 'proanthocyanins', 'color_intensity', 'hue', 'od280/od315_of_diluted_wines', 'proline']\n",
    "\n",
    "X, y = data_raw[training_columns], data_raw[label_columns]\n",
    "\n",
    "# Compare the number of columns in the original data to the new training and label sets.\n",
    "print(f'Original set:    {data_raw.shape}')\n",
    "print('------------------------------')\n",
    "print(f'Training data:   {X.shape}')\n",
    "print(f'Training labels: {y.shape}')"
   ]
  },
  {
   "cell_type": "markdown",
   "metadata": {},
   "source": [
    "# Transform `magnesium` and `proline`"
   ]
  },
  {
   "cell_type": "code",
   "execution_count": null,
   "metadata": {},
   "outputs": [],
   "source": [
    "# Apply a log transformation to scale 'magnesium' and 'proline'.\n",
    "X = X.copy()\n",
    "X['proline'] = np.log(X['proline'])\n",
    "X['magnesium'] = np.log(X['magnesium'])\n",
    "\n",
    "# Examine results of the transformation\n",
    "with pd.option_context('float_format', '{:.2f}'.format): \n",
    "    print(X['magnesium'].describe())\n",
    "    print('\\n-----------------------')\n",
    "    print(X['proline'].describe())\n",
    "    \n",
    "X.head()"
   ]
  },
  {
   "cell_type": "markdown",
   "metadata": {},
   "source": [
    "# Create a multinomial logistic regression model"
   ]
  },
  {
   "cell_type": "code",
   "execution_count": null,
   "metadata": {},
   "outputs": [],
   "source": [
    "from sklearn.linear_model import LogisticRegression\n",
    "\n",
    "log_reg = LogisticRegression(solver='sag', multi_class='multinomial', max_iter=10000)\n",
    "\n",
    "print('Multinomial logistic regression model created.')"
   ]
  },
  {
   "cell_type": "markdown",
   "metadata": {},
   "source": [
    "# Train the model using stratified *k*-fold cross-validation to split the dataset"
   ]
  },
  {
   "cell_type": "code",
   "execution_count": null,
   "metadata": {},
   "outputs": [],
   "source": [
    "from sklearn.model_selection import cross_val_score\n",
    "from sklearn.model_selection import cross_val_predict\n",
    "\n",
    "# Train model and make predictions using test data.\n",
    "start = time()\n",
    "predict = cross_val_predict(log_reg, X, np.ravel(y), cv = 5)\n",
    "end = time()\n",
    "train_time = (end - start) * 1000\n",
    "\n",
    "# Retrieve mean score of test folds.\n",
    "score = cross_val_score(log_reg, X, np.ravel(y), cv = 5).mean()\n",
    "\n",
    "print('Multinomial logistic regression model took {:.2f} milliseconds to fit.'.format(train_time))\n",
    "print('Mean score on test sets: {:.0f}%'.format(np.round(score * 100)))"
   ]
  },
  {
   "cell_type": "code",
   "execution_count": null,
   "metadata": {},
   "outputs": [],
   "source": [
    "# Retrieve prediction probabilities.\n",
    "proba = cross_val_predict(log_reg, X, np.ravel(y), cv = 5, method = 'predict_proba')\n",
    "\n",
    "# Use test set to evaluate.\n",
    "results_comparison = X.copy()\n",
    "results_comparison['magnesium'] = np.exp(results_comparison['magnesium'])\n",
    "results_comparison['proline'] = np.exp(results_comparison['proline'])\n",
    "results_comparison['PredictedWine'] = predict\n",
    "results_comparison['ActualWine'] = y.copy()\n",
    "results_comparison['ProbWine0'] = np.round(proba[:, 0] * 100, 2)\n",
    "results_comparison['ProbWine1'] = np.round(proba[:, 1] * 100, 2)\n",
    "results_comparison['ProbWine2'] = np.round(proba[:, 2] * 100, 2)\n",
    "\n",
    "# View examples of the predictions compared to actual wine.\n",
    "results_comparison.head(20)"
   ]
  },
  {
   "cell_type": "code",
   "execution_count": null,
   "metadata": {},
   "outputs": [],
   "source": []
  }
 ],
 "metadata": {
  "kernelspec": {
   "display_name": "Python 3",
   "language": "python",
   "name": "python3"
  },
  "language_info": {
   "codemirror_mode": {
    "name": "ipython",
    "version": 3
   },
   "file_extension": ".py",
   "mimetype": "text/x-python",
   "name": "python",
   "nbconvert_exporter": "python",
   "pygments_lexer": "ipython3",
   "version": "3.7.6"
  }
 },
 "nbformat": 4,
 "nbformat_minor": 2
}
