{
 "cells": [
  {
   "cell_type": "markdown",
   "metadata": {},
   "source": [
    "# Import software libraries and load the dataset #"
   ]
  },
  {
   "cell_type": "code",
   "execution_count": null,
   "metadata": {},
   "outputs": [],
   "source": [
    "import sys                             # Read system parameters.\n",
    "import os                              # Interact with the operating system.\n",
    "import numpy as np                     # Work with multi-dimensional arrays and matrices.\n",
    "import pandas as pd                    # Manipulate and analyze data.\n",
    "import matplotlib                      # Create 2D charts.\n",
    "import matplotlib.pyplot as plt\n",
    "import seaborn as sb                   # Perform data visualization.\n",
    "import sklearn                         # Perform data mining and analysis.\n",
    "from time import time                  # Calculate training time.\n",
    "\n",
    "# Summarize software libraries used.\n",
    "print('Libraries used in this project:')\n",
    "print('- Python {}'.format(sys.version))\n",
    "print('- NumPy {}'.format(np.__version__))\n",
    "print('- pandas {}'.format(pd.__version__))\n",
    "print('- Matplotlib {}'.format(matplotlib.__version__))\n",
    "print('- Seaborn {}'.format(sb.__version__))\n",
    "print('- scikit-learn {}\\n'.format(sklearn.__version__))\n",
    "\n",
    "# Load the dataset.\n",
    "PROJECT_ROOT_DIR = \".\"\n",
    "DATA_PATH = os.path.join(PROJECT_ROOT_DIR, \"titanic_data\")\n",
    "print('Data files in this project:', os.listdir(DATA_PATH))\n",
    "data_raw_file = os.path.join(DATA_PATH, 'train.csv')\n",
    "data_raw = pd.read_csv(data_raw_file)\n",
    "print('Loaded {} records from {}.'.format(len(data_raw), data_raw_file))"
   ]
  },
  {
   "cell_type": "markdown",
   "metadata": {},
   "source": [
    "# Split the datasets"
   ]
  },
  {
   "cell_type": "code",
   "execution_count": null,
   "metadata": {},
   "outputs": [],
   "source": [
    "# Separate training and test sets already exist.\n",
    "# A validation set will be split off from the training sets.\n",
    "\n",
    "from sklearn.model_selection import train_test_split\n",
    "\n",
    "# 'Survived' is the dependent variable (value to be predicted), so it will be\n",
    "# removed from the training data and put into a separate DataFrame for labels.\n",
    "label_columns = ['Survived']\n",
    "\n",
    "training_columns = ['PassengerId', 'Pclass', 'Name', 'Sex', 'Age', 'SibSp', 'Parch', 'Ticket', 'Fare', 'Cabin', 'Embarked']\n",
    "\n",
    "# Split the training and validation datasets and their labels.\n",
    "X_train, X_val, y_train, y_val = train_test_split(data_raw[training_columns],\n",
    "                                                                            data_raw[label_columns],\n",
    "                                                                            random_state = 1912)\n",
    "print('The training and validation datasets and labels have been split.')"
   ]
  },
  {
   "cell_type": "markdown",
   "metadata": {},
   "source": [
    "# Perform common preparation on the training and validation sets"
   ]
  },
  {
   "cell_type": "code",
   "execution_count": null,
   "metadata": {},
   "outputs": [],
   "source": [
    "# Perform common cleaning and feature engineering tasks on datasets.\n",
    "def prep_dataset(dataset):\n",
    "    \n",
    "    # PROVIDE MISSING VALUES\n",
    "    \n",
    "    # Fill missing Age values with the median age.\n",
    "    dataset['Age'].fillna(dataset['Age'].median(), inplace = True)\n",
    "\n",
    "    # Fill missing Fare values with the median fare.\n",
    "    dataset['Fare'].fillna(dataset['Fare'].median(), inplace = True)\n",
    "\n",
    "    # Fill missing Embarked values with the mode.\n",
    "    dataset['Embarked'].fillna(dataset['Embarked'].mode()[0], inplace = True)\n",
    "    \n",
    "    \n",
    "    # FEATURE ENGINEERING\n",
    "    \n",
    "    # Size of family and whether passenger is traveling alone.\n",
    "    size_of_family = dataset['SibSp'] + dataset['Parch'] + 1        \n",
    "    dataset['SizeOfFamily'] = size_of_family\n",
    "        \n",
    "    # Extract the title from the passenger's name.\n",
    "    title = dataset['Name'].str.split(\", \", expand=True)[1].str.split(\".\", expand=True)[0]\n",
    "    dataset['Title'] = title\n",
    "    \n",
    "    \n",
    "    # CONVERT CATEGORICAL VALUES TO NUMERIC ENCODINGS\n",
    "    \n",
    "    title_encode = {}\n",
    "    count = 1\n",
    "    for i in title.unique():\n",
    "        title_encode.update({i: count})\n",
    "        count += 1\n",
    "    \n",
    "    sex_encode = {'female': 1, 'male': 2}\n",
    "    \n",
    "    embarked_encode = {'S':1, 'C':2, 'Q':3}\n",
    "    \n",
    "    dataset['SexEncoding'] = dataset['Sex'].map(sex_encode)\n",
    "    dataset['EmbarkedEncoding'] = dataset['Embarked'].map(embarked_encode)\n",
    "    \n",
    "    dataset['TitleEncoding'] = dataset['Title'].map(title_encode)\n",
    "    dataset['TitleEncoding'].fillna(dataset['TitleEncoding'].mode()[0], inplace = True)\n",
    "\n",
    "    return dataset\n",
    "\n",
    "X_train = prep_dataset(X_train.copy())\n",
    "\n",
    "X_val = prep_dataset(X_val.copy())\n",
    "\n",
    "print('The training and validation datasets have been cleaned and prepared.')"
   ]
  },
  {
   "cell_type": "markdown",
   "metadata": {},
   "source": [
    "# Drop columns that won't be used for training"
   ]
  },
  {
   "cell_type": "code",
   "execution_count": null,
   "metadata": {},
   "outputs": [],
   "source": [
    "# Drop unused columns from datasets.\n",
    "def drop_unused(dataset):\n",
    "        \n",
    "    dataset = dataset.drop(['PassengerId'], axis=1)\n",
    "    dataset = dataset.drop(['Cabin'], axis=1)\n",
    "    dataset = dataset.drop(['Ticket'], axis=1)\n",
    "    dataset = dataset.drop(['Name'], axis=1)\n",
    "\n",
    "    # These have been replaced with numeric codes.\n",
    "    dataset = dataset.drop(['Title'], axis=1)\n",
    "    dataset = dataset.drop(['Sex'], axis=1)\n",
    "    dataset = dataset.drop(['Embarked'], axis=1)\n",
    "    \n",
    "    return dataset\n",
    "\n",
    "X_train = drop_unused(X_train.copy())\n",
    "\n",
    "X_val = drop_unused(X_val.copy())\n",
    "\n",
    "print('The unused columns have been dropped.')"
   ]
  },
  {
   "cell_type": "markdown",
   "metadata": {},
   "source": [
    "# Create a logistic regression model"
   ]
  },
  {
   "cell_type": "code",
   "execution_count": null,
   "metadata": {},
   "outputs": [],
   "source": [
    "from sklearn.linear_model import LogisticRegression\n",
    "\n",
    "log_reg = LogisticRegression(solver='sag', C = 0.05, max_iter = 10000)\n",
    "start = time()\n",
    "log_reg.fit(X_train, np.ravel(y_train))\n",
    "end = time()\n",
    "train_time = (end - start) * 1000\n",
    "\n",
    "prediction = log_reg.predict(X_val)\n",
    "\n",
    "# Score using the validation data.\n",
    "score = log_reg.score(X_val, y_val)\n",
    "\n",
    "print('Score on validation set: {:.0f}%'.format(score * 100))"
   ]
  },
  {
   "cell_type": "markdown",
   "metadata": {},
   "source": [
    "# Identify the class distribution in the dataset"
   ]
  },
  {
   "cell_type": "code",
   "execution_count": null,
   "metadata": {},
   "outputs": [],
   "source": [
    "label_count = data_raw['Survived'].value_counts()\n",
    "print('Perished (Class 0):', label_count[0])\n",
    "print('Survived (Class 1):', label_count[1])\n",
    "\n",
    "label_count.plot(kind = 'bar', title = 'Count (label)');"
   ]
  },
  {
   "cell_type": "markdown",
   "metadata": {},
   "source": [
    "# Generate a confusion matrix"
   ]
  },
  {
   "cell_type": "code",
   "execution_count": null,
   "metadata": {},
   "outputs": [],
   "source": [
    "from sklearn.metrics import confusion_matrix\n",
    "\n",
    "def c_matrix_graph(y, prediction):\n",
    "    c_matrix = confusion_matrix(y, prediction)\n",
    "    \n",
    "    ax = plt.subplot()\n",
    "\n",
    "    sb.set(font_scale = 1.2)\n",
    "    sb.heatmap(c_matrix, annot = True, fmt = 'g', ax = ax)\n",
    "    ax.set_title('Confusion Matrix')\n",
    "    ax.set_xlabel('Prediction', fontsize = 18);\n",
    "    ax.set_ylabel('Actual', fontsize = 18);\n",
    "    ax.xaxis.set_ticklabels(['perished (0)', 'survived (1)'], fontsize = 12, va = 'center');\n",
    "    ax.yaxis.set_ticklabels(['perished (0)', 'survived (1)'], fontsize = 12, va = 'center');\n",
    "    \n",
    "print('The confusion matrix graphing function has been defined.')"
   ]
  },
  {
   "cell_type": "markdown",
   "metadata": {},
   "source": [
    "# Compute accuracy, precision, recall, and F<sub>1</sub> score"
   ]
  },
  {
   "cell_type": "code",
   "execution_count": null,
   "metadata": {},
   "outputs": [],
   "source": [
    "from sklearn.metrics import accuracy_score\n",
    "from sklearn.metrics import precision_score\n",
    "from sklearn.metrics import recall_score\n",
    "from sklearn.metrics import f1_score\n",
    "\n",
    "def model_scores(y, prediction):\n",
    "    acc = accuracy_score(y, prediction)\n",
    "    print('Accuracy: {:.0f}%'.format(np.round(acc * 100)))\n",
    "    \n",
    "    precision = precision_score(y, prediction)\n",
    "    print('Precision: {:.0f}%'.format(np.round(precision * 100)))\n",
    "    \n",
    "    recall = recall_score(y, prediction)\n",
    "    print('Recall: {:.0f}%'.format(np.round(recall * 100)))\n",
    "    \n",
    "    f1 = f1_score(y, prediction)\n",
    "    print('F1: {:.0f}%'.format(np.round(f1 * 100)))\n",
    "    \n",
    "print('The function to compute scores has been defined.')"
   ]
  },
  {
   "cell_type": "markdown",
   "metadata": {},
   "source": [
    "# Generate a ROC curve and compute the AUC"
   ]
  },
  {
   "cell_type": "code",
   "execution_count": null,
   "metadata": {},
   "outputs": [],
   "source": [
    "from sklearn.metrics import roc_curve\n",
    "from sklearn.metrics import roc_auc_score\n",
    "\n",
    "def roc(y, prediction_proba):\n",
    "    fpr, tpr, thresholds = roc_curve(y, prediction_proba)\n",
    "    \n",
    "    plt.plot(fpr, tpr);\n",
    "    plt.xlim([0.0, 1.0]);\n",
    "    plt.ylim([0.0, 1.0]);\n",
    "    plt.title('ROC Curve');\n",
    "    plt.xlabel('False Positive Rate');\n",
    "    plt.ylabel('True Positive Rate');\n",
    "    plt.grid(True);\n",
    "    \n",
    "    auc = roc_auc_score(y, prediction_proba)\n",
    "    print('Area Under Curve: {:.2f}'.format(auc))\n",
    "    \n",
    "print('The function to generate a ROC curve and compute AUC has been defined.')"
   ]
  },
  {
   "cell_type": "markdown",
   "metadata": {},
   "source": [
    "# Generate a precision–recall curve and compute the average precision"
   ]
  },
  {
   "cell_type": "code",
   "execution_count": null,
   "metadata": {},
   "outputs": [],
   "source": [
    "from sklearn.metrics import precision_recall_curve\n",
    "from sklearn.metrics import average_precision_score\n",
    "\n",
    "def prc(y, prediction_proba):\n",
    "    precision, recall, thresholds = precision_recall_curve(y, prediction_proba)\n",
    "    \n",
    "    plt.plot(recall, precision);\n",
    "    plt.xlim([0.0, 1.0]);\n",
    "    plt.ylim([0.0, 1.0]);\n",
    "    plt.title('Precision–Recall Curve');\n",
    "    plt.xlabel('Recall');\n",
    "    plt.ylabel('Precision');\n",
    "    plt.grid(True);\n",
    "    \n",
    "    ap = average_precision_score(y, prediction_proba)\n",
    "    print('Average Precision: {:.2f}'.format(ap))\n",
    "    \n",
    "print('The function to generate a precision-recall curve and compute average precision has been defined.')"
   ]
  },
  {
   "cell_type": "markdown",
   "metadata": {},
   "source": [
    "# Evaluate the initial logistic regression model"
   ]
  },
  {
   "cell_type": "code",
   "execution_count": null,
   "metadata": {},
   "outputs": [],
   "source": [
    "initial_predict = log_reg.predict(X_val)\n",
    "\n",
    "c_matrix_graph(y_val, initial_predict)"
   ]
  },
  {
   "cell_type": "code",
   "execution_count": null,
   "metadata": {},
   "outputs": [],
   "source": [
    "model_scores(y_val, initial_predict)"
   ]
  },
  {
   "cell_type": "code",
   "execution_count": null,
   "metadata": {},
   "outputs": [],
   "source": [
    "initial_predict_proba = log_reg.predict_proba(X_val)\n",
    "\n",
    "roc(y_val, initial_predict_proba[:, 1])"
   ]
  },
  {
   "cell_type": "code",
   "execution_count": null,
   "metadata": {},
   "outputs": [],
   "source": [
    "prc(y_val, initial_predict_proba[:, 1])"
   ]
  },
  {
   "cell_type": "markdown",
   "metadata": {},
   "source": [
    "# Fit a logistic regression model using grid search with cross-validation"
   ]
  },
  {
   "cell_type": "code",
   "execution_count": null,
   "metadata": {},
   "outputs": [],
   "source": [
    "from sklearn.model_selection import GridSearchCV\n",
    "\n",
    "grid = [{'solver': ['liblinear'],\n",
    "         'penalty': ['l1', 'l2'],\n",
    "         'C': [0.001, 0.01, 0.1, 1, 5, 10, 25, 50, 100]},\n",
    "        {'solver': ['sag'],\n",
    "         'penalty': ['l2'],\n",
    "         'C': [0.001, 0.01, 0.1, 1, 5, 10, 25, 50, 100],\n",
    "         'max_iter': [10000]}]\n",
    "\n",
    "search = GridSearchCV(log_reg, param_grid = grid, scoring = 'f1', cv = 5, iid = False)\n",
    "search.fit(X_train, np.ravel(y_train));\n",
    "\n",
    "print(search.best_params_)"
   ]
  },
  {
   "cell_type": "markdown",
   "metadata": {},
   "source": [
    "# Evaluate the optimized model"
   ]
  },
  {
   "cell_type": "code",
   "execution_count": null,
   "metadata": {},
   "outputs": [],
   "source": [
    "search_predict = search.predict(X_val)\n",
    "\n",
    "c_matrix_graph(y_val, search_predict)"
   ]
  },
  {
   "cell_type": "code",
   "execution_count": null,
   "metadata": {},
   "outputs": [],
   "source": [
    "model_scores(y_val, search_predict)"
   ]
  },
  {
   "cell_type": "code",
   "execution_count": null,
   "metadata": {},
   "outputs": [],
   "source": [
    "search_predict_proba = search.predict_proba(X_val)\n",
    "\n",
    "roc(y_val, search_predict_proba[:, 1])"
   ]
  },
  {
   "cell_type": "code",
   "execution_count": null,
   "metadata": {},
   "outputs": [],
   "source": [
    "prc(y_val, search_predict_proba[:, 1])"
   ]
  },
  {
   "cell_type": "markdown",
   "metadata": {},
   "source": [
    "# Compare the logistic regression models' predictions on the test data"
   ]
  },
  {
   "cell_type": "code",
   "execution_count": null,
   "metadata": {},
   "outputs": [],
   "source": [
    "# Read the test dataset.\n",
    "X_test_file = os.path.join(DATA_PATH, 'test.csv')\n",
    "X_test_raw = pd.read_csv(X_test_file)\n",
    "print('Loaded {} records from {}\\n'.format(len(X_test_raw), X_test_file))\n",
    "\n",
    "X_test = prep_dataset(X_test_raw.copy())\n",
    "X_test = drop_unused(X_test.copy())"
   ]
  },
  {
   "cell_type": "code",
   "execution_count": null,
   "metadata": {},
   "outputs": [],
   "source": [
    "# Show example predictions with the test data using the initial (unoptimized) model.\n",
    "results_log_reg = X_test_raw.copy()\n",
    "results_log_reg['PredictedSurvival'] = log_reg.predict(X_test)\n",
    "results_log_reg['ProbPerished'] = np.round(log_reg.predict_proba(X_test)[:, 0] * 100, 2)\n",
    "results_log_reg['ProbSurvived'] = np.round(log_reg.predict_proba(X_test)[:, 1] * 100, 2)\n",
    "results_log_reg.head(10)"
   ]
  },
  {
   "cell_type": "code",
   "execution_count": null,
   "metadata": {},
   "outputs": [],
   "source": [
    "# Show example predictions with the test data using the model optimized with grid search.\n",
    "results_log_reg = X_test_raw.copy()\n",
    "results_log_reg['PredictedSurvival'] = search.predict(X_test)\n",
    "results_log_reg['ProbPerished'] = np.round(search.predict_proba(X_test)[:, 0] * 100, 2)\n",
    "results_log_reg['ProbSurvived'] = np.round(search.predict_proba(X_test)[:, 1] * 100, 2)\n",
    "results_log_reg.head(10)"
   ]
  },
  {
   "cell_type": "code",
   "execution_count": null,
   "metadata": {},
   "outputs": [],
   "source": []
  }
 ],
 "metadata": {
  "kernelspec": {
   "display_name": "Python 3",
   "language": "python",
   "name": "python3"
  },
  "language_info": {
   "codemirror_mode": {
    "name": "ipython",
    "version": 3
   },
   "file_extension": ".py",
   "mimetype": "text/x-python",
   "name": "python",
   "nbconvert_exporter": "python",
   "pygments_lexer": "ipython3",
   "version": "3.7.6"
  }
 },
 "nbformat": 4,
 "nbformat_minor": 2
}
