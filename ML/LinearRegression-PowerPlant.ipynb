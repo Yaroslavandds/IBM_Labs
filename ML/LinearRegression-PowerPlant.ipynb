{
 "cells": [
  {
   "cell_type": "markdown",
   "metadata": {},
   "source": [
    "# Import software libraries and load the dataset #"
   ]
  },
  {
   "cell_type": "code",
   "execution_count": null,
   "metadata": {},
   "outputs": [],
   "source": [
    "import sys                                             # Read system parameters.\n",
    "import os                                              # Interact with the operating system.\n",
    "import numpy as np                                     # Work with multi-dimensional arrays and matrices.\n",
    "import pandas as pd                                    # Manipulate and analyze data.\n",
    "import matplotlib as mpl                               # Create 2D charts.\n",
    "import matplotlib.pyplot as plt\n",
    "import matplotlib.cm as cm\n",
    "import seaborn as sb                                   # Perform data visualization.\n",
    "import sklearn                                         # Perform data mining and analysis.\n",
    "from time import time                                  # Calculate training time.\n",
    "\n",
    "# Summarize software libraries used.\n",
    "print('Libraries used in this project:')\n",
    "print('- Python {}'.format(sys.version))\n",
    "print('- NumPy {}'.format(np.__version__))\n",
    "print('- pandas {}'.format(pd.__version__))\n",
    "print('- Matplotlib {}'.format(mpl.__version__))\n",
    "print('- scikit-learn {}\\n'.format(sklearn.__version__))\n",
    "\n",
    "# Load the dataset.\n",
    "PROJECT_ROOT_DIR = '.'\n",
    "DATA_PATH = os.path.join(PROJECT_ROOT_DIR, 'power_plant_data')\n",
    "print('Data files in this project:', os.listdir(DATA_PATH))\n",
    "data_raw_file = os.path.join(DATA_PATH, 'cc_power_plant_data.csv')\n",
    "data_raw = pd.read_csv(data_raw_file)\n",
    "print('Loaded {} records from {}.'.format(len(data_raw), data_raw_file))"
   ]
  },
  {
   "cell_type": "markdown",
   "metadata": {},
   "source": [
    "# Get acquainted with the dataset"
   ]
  },
  {
   "cell_type": "code",
   "execution_count": null,
   "metadata": {},
   "outputs": [],
   "source": [
    "print(data_raw.info())     # View features and data types.\n",
    "data_raw.head(10)          # View first 10 records."
   ]
  },
  {
   "cell_type": "markdown",
   "metadata": {},
   "source": [
    "# Examine the distribution of the features"
   ]
  },
  {
   "cell_type": "code",
   "execution_count": null,
   "metadata": {},
   "outputs": [],
   "source": [
    "# Use Matplotlib to plot figures.\n",
    "%matplotlib inline\n",
    "mpl.rc('axes', labelsize = 14)\n",
    "mpl.rc('xtick', labelsize = 12)\n",
    "mpl.rc('ytick', labelsize = 12)\n",
    "\n",
    "data_raw.hist(figsize = (8, 8));\n",
    "plt.figure();"
   ]
  },
  {
   "cell_type": "markdown",
   "metadata": {},
   "source": [
    "# Examine a general summary of statistics"
   ]
  },
  {
   "cell_type": "code",
   "execution_count": null,
   "metadata": {},
   "outputs": [],
   "source": [
    "with pd.option_context('float_format', '{:.2f}'.format): \n",
    "    print(data_raw.describe())"
   ]
  },
  {
   "cell_type": "markdown",
   "metadata": {},
   "source": [
    "# Look for columns that correlate with `EnergyOutput`#"
   ]
  },
  {
   "cell_type": "code",
   "execution_count": null,
   "metadata": {},
   "outputs": [],
   "source": [
    "# Correlations between numeric features and 'EnergyOutput'.\n",
    "print('Correlations with EnergyOutput')\n",
    "print(data_raw.corr()['EnergyOutput'].sort_values(ascending=False))"
   ]
  },
  {
   "cell_type": "markdown",
   "metadata": {},
   "source": [
    "# Split the datasets"
   ]
  },
  {
   "cell_type": "code",
   "execution_count": null,
   "metadata": {},
   "outputs": [],
   "source": [
    "from sklearn.model_selection import train_test_split\n",
    "\n",
    "# 'EnergyOutput' is the dependent variable (value to be predicted), so it will be\n",
    "# removed from the training data and put into a separate DataFrame for labels.\n",
    "label_columns = ['EnergyOutput']\n",
    "\n",
    "training_columns = ['Temperature', 'ExhaustVacuum', 'AmbientPressure', 'RelativeHumidity']\n",
    "\n",
    "# Split the training and test datasets and their labels.\n",
    "X_train, X_test, y_train, y_test = train_test_split(data_raw[training_columns],\n",
    "                                                                            data_raw[label_columns],\n",
    "                                                                            random_state = 543)\n",
    "\n",
    "# Compare the number of rows and columns in the original data to the training and test sets.\n",
    "print(f'Original set:        {data_raw.shape}')\n",
    "print('------------------------------')\n",
    "print(f'Training features:   {X_train.shape}')\n",
    "print(f'Test features:       {X_test.shape}')\n",
    "print(f'Training labels:     {y_train.shape}')\n",
    "print(f'Test labels:         {y_test.shape}')"
   ]
  },
  {
   "cell_type": "markdown",
   "metadata": {},
   "source": [
    "# Create a linear regression model"
   ]
  },
  {
   "cell_type": "code",
   "execution_count": null,
   "metadata": {},
   "outputs": [],
   "source": [
    "from sklearn.linear_model import LinearRegression\n",
    "\n",
    "lin_reg = LinearRegression(fit_intercept = False)\n",
    "start = time()\n",
    "lin_reg.fit(X_train, np.ravel(y_train))\n",
    "end = time()\n",
    "train_time = (end - start) * 1000\n",
    "\n",
    "# Score using the test data.\n",
    "score = lin_reg.score(X_test, y_test)\n",
    "\n",
    "print('Linear regression model took {:.2f} milliseconds to fit.'.format(train_time))\n",
    "print('Variance score on test set: {:.0f}%'.format(score * 100))"
   ]
  },
  {
   "cell_type": "markdown",
   "metadata": {},
   "source": [
    "# Compare the first ten predictions to actual values"
   ]
  },
  {
   "cell_type": "code",
   "execution_count": null,
   "metadata": {},
   "outputs": [],
   "source": [
    "predict = lin_reg.predict(X_test)\n",
    "\n",
    "results_comparison = X_test.copy()\n",
    "results_comparison['PredictedEnergyOutput'] = np.round(predict, 2)\n",
    "results_comparison['ActualEnergyOutput'] = y_test.copy()\n",
    "\n",
    "# View examples of the predictions compared to actual energy output.\n",
    "results_comparison.head(10)"
   ]
  },
  {
   "cell_type": "markdown",
   "metadata": {},
   "source": [
    "# Calculate the error between predicted and actual values"
   ]
  },
  {
   "cell_type": "code",
   "execution_count": null,
   "metadata": {},
   "outputs": [],
   "source": [
    "from sklearn.metrics import mean_squared_error as mse\n",
    "\n",
    "cost = mse(y_test, predict)\n",
    "print('Cost (mean squared error): {:.2f}'.format(cost))"
   ]
  },
  {
   "cell_type": "markdown",
   "metadata": {},
   "source": [
    "# Plot lines of best fit for all features"
   ]
  },
  {
   "cell_type": "code",
   "execution_count": null,
   "metadata": {},
   "outputs": [],
   "source": [
    "# Prepare four plots showing lines of best fit for energy output and other features.\n",
    "line_color = {'color': 'red'}\n",
    "fig, ax = plt.subplots(2, 2, figsize = (18, 10))\n",
    "\n",
    "# Temperature\n",
    "ax1 = sb.regplot(X_test['Temperature'], \n",
    "                np.ravel(predict), \n",
    "                line_kws = line_color, \n",
    "                ax = ax[0,0])\n",
    "ax1.set_ylabel('Energy Output')\n",
    "\n",
    "# Exhaust vacuum\n",
    "ax2 = sb.regplot(X_test['ExhaustVacuum'],\n",
    "                 np.ravel(predict), \n",
    "                 line_kws = line_color, \n",
    "                 ax = ax[0,1])\n",
    "ax2.set_ylabel('Energy Output')\n",
    "\n",
    "# Ambient pressure\n",
    "ax3 = sb.regplot(X_test['AmbientPressure'], \n",
    "                 np.ravel(predict), \n",
    "                 line_kws = line_color,\n",
    "                 ax = ax[1,0])\n",
    "ax3.set_ylabel('Energy Output')\n",
    "\n",
    "# Relative humidity\n",
    "ax4 = sb.regplot(X_test['RelativeHumidity'],\n",
    "                 np.ravel(predict), \n",
    "                 line_kws = line_color, \n",
    "                 ax = ax[1,1])\n",
    "ax4.set_ylabel('Energy Output')\n",
    "\n",
    "ax4.set_ylim(420,498)\n",
    "ax4.set_xlim(0,110);"
   ]
  },
  {
   "cell_type": "markdown",
   "metadata": {},
   "source": [
    "# Compare predicted values to actual values"
   ]
  },
  {
   "cell_type": "code",
   "execution_count": null,
   "metadata": {},
   "outputs": [],
   "source": [
    "N = 10  # Plot every Nth value to save time and space\n",
    "predict_df = results_comparison.sort_values('ActualEnergyOutput')[::N]\n",
    "\n",
    "predict_df['diff'] = predict_df['ActualEnergyOutput'] - predict_df['PredictedEnergyOutput']\n",
    "predict_df['recnum'] = np.arange(len(predict_df))\n",
    "predict_df['error_pct'] = abs(predict_df['diff'] / predict_df['ActualEnergyOutput']) * 1500\n",
    "\n",
    "ax = plt.figure(figsize = [18, 10])\n",
    "plt.ylabel('Energy Output')\n",
    "plt.xlabel('Measurement')\n",
    "plt.plot(predict_df['recnum'], predict_df['ActualEnergyOutput'], color = 'blue');\n",
    "plt.scatter(predict_df['recnum'],\n",
    "            predict_df['PredictedEnergyOutput'], \n",
    "            predict_df['error_pct'], \n",
    "            color = 'red');\n",
    "\n",
    "ax.legend(['Actual', 'Predicted'], \n",
    "           loc = 'lower center',\n",
    "           ncol = 2, \n",
    "           title = 'Energy output predicted using linear regression')\n",
    "\n",
    "plt.show()"
   ]
  },
  {
   "cell_type": "markdown",
   "metadata": {},
   "source": [
    "# Retrieve the model parameters"
   ]
  },
  {
   "cell_type": "code",
   "execution_count": null,
   "metadata": {},
   "outputs": [],
   "source": [
    "coefs = lin_reg.coef_\n",
    "\n",
    "print('Temperature coefficient: {}'.format(coefs[0]))\n",
    "print('ExhaustVacuum coefficient: {}'.format(coefs[1]))\n",
    "print('AmbientPressure coefficient: {}'.format(coefs[2]))\n",
    "print('RelativeHumidity coefficient: {}'.format(coefs[3]))"
   ]
  },
  {
   "cell_type": "markdown",
   "metadata": {},
   "source": [
    "# Manually calculate the model parameters using the normal equation"
   ]
  },
  {
   "cell_type": "code",
   "execution_count": null,
   "metadata": {},
   "outputs": [],
   "source": [
    "# Multiply the transpose of X by X, then take the inverse.\n",
    "eq_part_1 = np.linalg.inv(X_train.transpose().dot(X_train))\n",
    "\n",
    "# Multiply the transpose of X by y.\n",
    "eq_part_2 = X_train.transpose().dot(y_train)\n",
    "\n",
    "# Multiply the previous products.\n",
    "model_params = eq_part_1.dot(eq_part_2)\n",
    "\n",
    "print(model_params)"
   ]
  }
 ],
 "metadata": {
  "kernelspec": {
   "display_name": "Python 3",
   "language": "python",
   "name": "python3"
  },
  "language_info": {
   "codemirror_mode": {
    "name": "ipython",
    "version": 3
   },
   "file_extension": ".py",
   "mimetype": "text/x-python",
   "name": "python",
   "nbconvert_exporter": "python",
   "pygments_lexer": "ipython3",
   "version": "3.7.3"
  }
 },
 "nbformat": 4,
 "nbformat_minor": 2
}
