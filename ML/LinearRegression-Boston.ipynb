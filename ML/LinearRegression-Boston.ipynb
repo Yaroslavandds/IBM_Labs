{
 "cells": [
  {
   "cell_type": "markdown",
   "metadata": {},
   "source": [
    "# Import software libraries and load the dataset #"
   ]
  },
  {
   "cell_type": "code",
   "execution_count": null,
   "metadata": {},
   "outputs": [],
   "source": [
    "import sys                                             # Read system parameters.\n",
    "import numpy as np                                     # Work with multi-dimensional arrays and matrices.\n",
    "import pandas as pd                                    # Manipulate and analyze data.\n",
    "import matplotlib as mpl                               # Create 2D charts.\n",
    "import matplotlib.pyplot as plt\n",
    "import matplotlib.cm as cm\n",
    "import seaborn as sb                                   # Perform data visualization.\n",
    "import sklearn                                         # Perform data mining and analysis.\n",
    "from sklearn import datasets\n",
    "\n",
    "# Summarize software libraries used.\n",
    "print('Libraries used in this project:')\n",
    "print('- Python {}'.format(sys.version))\n",
    "print('- NumPy {}'.format(np.__version__))\n",
    "print('- pandas {}'.format(pd.__version__))\n",
    "print('- Matplotlib {}'.format(mpl.__version__))\n",
    "print('- Seaborn {}'.format(sb.__version__))\n",
    "print('- scikit-learn {}\\n'.format(sklearn.__version__))\n",
    "\n",
    "# Load the dataset.\n",
    "boston = datasets.load_boston()\n",
    "print('Loaded {} records.'.format(len(boston.data)))"
   ]
  },
  {
   "cell_type": "markdown",
   "metadata": {},
   "source": [
    "# Get acquainted with the dataset"
   ]
  },
  {
   "cell_type": "code",
   "execution_count": null,
   "metadata": {},
   "outputs": [],
   "source": [
    "# Convert array to pandas DataFrame.\n",
    "data_raw = pd.DataFrame(boston['data'], columns = boston['feature_names'])\n",
    "data_raw['target'] = boston['target']\n",
    "\n",
    "print(data_raw.info())      # View data types and see if there are missing entries.\n",
    "data_raw.head(10)           # View first 10 records."
   ]
  },
  {
   "cell_type": "markdown",
   "metadata": {},
   "source": [
    "# Examine the distribution of various features"
   ]
  },
  {
   "cell_type": "code",
   "execution_count": null,
   "metadata": {},
   "outputs": [],
   "source": [
    "# Use Matplotlib to plot figures.\n",
    "%matplotlib inline\n",
    "mpl.rc('axes', labelsize=14)\n",
    "mpl.rc('xtick', labelsize=12)\n",
    "mpl.rc('ytick', labelsize=12)\n",
    "\n",
    "data_raw.hist(figsize=(20,15));\n",
    "plt.figure();"
   ]
  },
  {
   "cell_type": "markdown",
   "metadata": {},
   "source": [
    "# Examine a general summary of statistics"
   ]
  },
  {
   "cell_type": "code",
   "execution_count": null,
   "metadata": {},
   "outputs": [],
   "source": [
    "with pd.option_context('float_format', '{:.2f}'.format): \n",
    "    print(data_raw.describe())"
   ]
  },
  {
   "cell_type": "markdown",
   "metadata": {},
   "source": [
    "# Look for columns that correlate with `target` (median house value)#"
   ]
  },
  {
   "cell_type": "code",
   "execution_count": null,
   "metadata": {},
   "outputs": [],
   "source": [
    "# Correlations between numeric features and 'target'.\n",
    "print('Correlations with median house value')\n",
    "print(data_raw.corr()['target'].sort_values(ascending=False))"
   ]
  },
  {
   "cell_type": "markdown",
   "metadata": {},
   "source": [
    "# Split the label from the dataset"
   ]
  },
  {
   "cell_type": "code",
   "execution_count": null,
   "metadata": {},
   "outputs": [],
   "source": [
    "# 'target' is the dependent variable (value to be predicted), so it will be\n",
    "# removed from the training data and put into a separate DataFrame for labels.\n",
    "label_columns = ['target']\n",
    "\n",
    "X, y = data_raw.loc[:, 'CRIM': 'LSTAT'], data_raw[label_columns]\n",
    "\n",
    "# Compare the number of columns in the original data to the new training and label sets.\n",
    "print(f'Original set:    {data_raw.shape}')\n",
    "print('------------------------------')\n",
    "print(f'Training data:   {X.shape}')\n",
    "print(f'Training labels: {y.shape}')"
   ]
  },
  {
   "cell_type": "markdown",
   "metadata": {},
   "source": [
    "# Drop columns that won't be used for training"
   ]
  },
  {
   "cell_type": "code",
   "execution_count": null,
   "metadata": {},
   "outputs": [],
   "source": [
    "# Drop column from dataset that shows weak correlation.\n",
    "def drop_unused(dataset):\n",
    "    \n",
    "    print('Columns before drop:\\n\\n{}\\n'.format(list(dataset.columns)))\n",
    "        \n",
    "    dataset = dataset.drop(['CHAS'], axis = 1)\n",
    "    \n",
    "    print('Columns after drop:\\n\\n{}\\n'.format(list(dataset.columns)))\n",
    "    return dataset\n",
    "\n",
    "X = drop_unused(X.copy())"
   ]
  },
  {
   "cell_type": "markdown",
   "metadata": {},
   "source": [
    "# Standardize the features"
   ]
  },
  {
   "cell_type": "code",
   "execution_count": null,
   "metadata": {},
   "outputs": [],
   "source": [
    "def standardize(X):\n",
    "    result = X.copy()\n",
    "    \n",
    "    for feature in X.columns:\n",
    "        result[feature] = (X[feature] - X[feature].mean()) / X[feature].std()  # z-score formula.\n",
    "        \n",
    "    return result\n",
    "\n",
    "X = standardize(X)\n",
    "\n",
    "print('The features have been standardized.')"
   ]
  },
  {
   "cell_type": "code",
   "execution_count": null,
   "metadata": {},
   "outputs": [],
   "source": [
    "with pd.option_context('float_format', '{:.2f}'.format): \n",
    "    print(X.describe())"
   ]
  },
  {
   "cell_type": "markdown",
   "metadata": {},
   "source": [
    "# Train a model and calculate its scores"
   ]
  },
  {
   "cell_type": "code",
   "execution_count": null,
   "metadata": {},
   "outputs": [],
   "source": [
    "from sklearn.model_selection import cross_val_score\n",
    "from sklearn.model_selection import cross_val_predict\n",
    "from sklearn.metrics import mean_squared_error as mse\n",
    "\n",
    "# Use cross-validation to split/train datasets.\n",
    "def model_train(model):\n",
    "    predict = cross_val_predict(model, X, np.ravel(y), cv = 5)\n",
    "    score = cross_val_score(model, X, np.ravel(y), cv = 5).mean()\n",
    "    cost = mse(y, predict)\n",
    "    \n",
    "    print('Mean variance score on test set: {:.0f}%'.format(np.round(score * 100)))\n",
    "    print('Cost (mean squared error): {:.2f}'.format(cost))\n",
    "    \n",
    "print('The function to train the model has been defined.')"
   ]
  },
  {
   "cell_type": "markdown",
   "metadata": {},
   "source": [
    "# Evaluate several regularized linear regression models"
   ]
  },
  {
   "cell_type": "code",
   "execution_count": null,
   "metadata": {},
   "outputs": [],
   "source": [
    "from sklearn.linear_model import LinearRegression\n",
    "from sklearn.linear_model import Ridge\n",
    "from sklearn.linear_model import Lasso\n",
    "from sklearn.linear_model import ElasticNet\n",
    "\n",
    "# Create non-regularized and regularized linear regression models.\n",
    "def model_eval(a, l1):\n",
    "    for name, model in [\n",
    "        ('None', LinearRegression()),\n",
    "        ('Ridge', Ridge(alpha = a, solver = 'cholesky')),\n",
    "        ('Lasso', Lasso(alpha = a)),\n",
    "        ('Elastic net', ElasticNet(alpha = a, l1_ratio = l1))]:\n",
    "\n",
    "        print('Regularization: {}'.format(name))\n",
    "        print('--------------------')\n",
    "        model_train(model)\n",
    "        print('\\n')\n",
    "        \n",
    "print('The function to evaluate the linear regression models has been defined.')"
   ]
  },
  {
   "cell_type": "code",
   "execution_count": null,
   "metadata": {},
   "outputs": [],
   "source": [
    "model_eval(1, 0.5)"
   ]
  },
  {
   "cell_type": "code",
   "execution_count": null,
   "metadata": {},
   "outputs": [],
   "source": [
    "model_eval(0.1, 0.3)"
   ]
  },
  {
   "cell_type": "markdown",
   "metadata": {},
   "source": [
    "# Plot lines of best fit for the `RM` (average number of rooms) feature"
   ]
  },
  {
   "cell_type": "code",
   "execution_count": null,
   "metadata": {},
   "outputs": [],
   "source": [
    "lin_reg = LinearRegression()\n",
    "predict_no_reg = cross_val_predict(lin_reg, X, np.ravel(y), cv = 5)\n",
    "\n",
    "lin_reg_enet = ElasticNet(alpha = 0.1, l1_ratio = 0.3)\n",
    "predict_enet = cross_val_predict(lin_reg_enet, X, np.ravel(y), cv = 5)\n",
    "\n",
    "line_color_1 = {'color': 'red'}\n",
    "line_color_2 = {'color': 'black'}\n",
    "\n",
    "fig, ax = plt.subplots(1, 1, figsize = (8, 5))\n",
    "sb.regplot(X['RM'], np.ravel(predict_no_reg), line_kws = line_color_1)\n",
    "sb.regplot(X['RM'], np.ravel(predict_enet), line_kws = line_color_2)\n",
    "plt.ylabel('Price')"
   ]
  },
  {
   "cell_type": "markdown",
   "metadata": {},
   "source": [
    "# Compare predicted values to actual values"
   ]
  },
  {
   "cell_type": "code",
   "execution_count": null,
   "metadata": {},
   "outputs": [],
   "source": [
    "predict_df = y.copy()\n",
    "predict_df['PredictedMEDV-NoReg'] = predict_no_reg\n",
    "predict_df['PredictedMEDV-Enet'] = predict_enet\n",
    "\n",
    "N = 5  # Plot every Nth value to save time and space\n",
    "predict_df = predict_df.sort_values('target')[::N]\n",
    "\n",
    "predict_df['diff-noreg'] = predict_df['target'] - predict_df['PredictedMEDV-NoReg']\n",
    "predict_df['recnum'] = np.arange(len(predict_df))\n",
    "predict_df['error_pct-noreg'] = abs(predict_df['diff-noreg'] / predict_df['target']) * 150\n",
    "\n",
    "predict_df['diff-enet'] = predict_df['target'] - predict_df['PredictedMEDV-Enet']\n",
    "predict_df['error_pct-enet'] = abs(predict_df['diff-enet'] / predict_df['target']) * 150\n",
    "\n",
    "ax = plt.figure(figsize = [18, 10])\n",
    "plt.ylabel('Median House Value')\n",
    "plt.xlabel('House')\n",
    "plt.plot(predict_df['recnum'], predict_df['target'], color = 'blue');\n",
    "plt.scatter(predict_df['recnum'],\n",
    "            predict_df['PredictedMEDV-NoReg'], \n",
    "            predict_df['error_pct-noreg'], \n",
    "            color = 'red');\n",
    "plt.scatter(predict_df['recnum'],\n",
    "            predict_df['PredictedMEDV-Enet'], \n",
    "            predict_df['error_pct-enet'], \n",
    "            color = 'green');\n",
    "\n",
    "ax.legend(['Actual', 'Predicted (NoReg)', 'Predicted (Enet)'], \n",
    "           loc = 'lower center',\n",
    "           ncol = 3, \n",
    "           title = 'Median house value predicted using linear regression')\n",
    "\n",
    "plt.show()"
   ]
  }
 ],
 "metadata": {
  "kernelspec": {
   "display_name": "Python 3",
   "language": "python",
   "name": "python3"
  },
  "language_info": {
   "codemirror_mode": {
    "name": "ipython",
    "version": 3
   },
   "file_extension": ".py",
   "mimetype": "text/x-python",
   "name": "python",
   "nbconvert_exporter": "python",
   "pygments_lexer": "ipython3",
   "version": "3.7.6"
  }
 },
 "nbformat": 4,
 "nbformat_minor": 2
}
