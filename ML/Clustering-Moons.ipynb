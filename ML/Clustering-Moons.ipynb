{
 "cells": [
  {
   "cell_type": "markdown",
   "metadata": {},
   "source": [
    "# Import software libraries"
   ]
  },
  {
   "cell_type": "code",
   "execution_count": null,
   "metadata": {},
   "outputs": [],
   "source": [
    "import sys                                             # Read system parameters.\n",
    "import os                                              # Interact with the operating system.\n",
    "import numpy as np                                     # Work with multi-dimensional arrays and matrices.\n",
    "import pandas as pd                                    # Manipulate and analyze data.\n",
    "import scipy as sp                                     # Apply advanced mathematical functions.\n",
    "import matplotlib                                      # Create 2D charts.\n",
    "import matplotlib.pyplot as plt\n",
    "import matplotlib.cm as cm\n",
    "import yellowbrick                                     # Visualize elbow and silhouette plots.\n",
    "import sklearn                                         # Perform data mining and analysis.\n",
    "from sklearn import datasets\n",
    "\n",
    "# Summarize software libraries used.\n",
    "print('Libraries used in this project:')\n",
    "print('- Python {}'.format(sys.version))\n",
    "print('- NumPy {}'.format(np.__version__))\n",
    "print('- pandas {}'.format(pd.__version__))\n",
    "print('- SciPy {}'.format(sp.__version__))\n",
    "print('- Matplotlib {}'.format(matplotlib.__version__))\n",
    "print('- Yellowbrick {}'.format(yellowbrick.__version__))\n",
    "print('- scikit-learn {}\\n'.format(sklearn.__version__))"
   ]
  },
  {
   "cell_type": "markdown",
   "metadata": {},
   "source": [
    "# Load the dataset"
   ]
  },
  {
   "cell_type": "code",
   "execution_count": null,
   "metadata": {},
   "outputs": [],
   "source": [
    "X, y = datasets.make_moons(n_samples = 1000, noise = 0.05, random_state = 41)\n",
    "X = pd.DataFrame({'Col1': X[:, 0], 'Col2': X[:, 1]})\n",
    "\n",
    "print(X.info())\n",
    "X.head()"
   ]
  },
  {
   "cell_type": "markdown",
   "metadata": {},
   "source": [
    "# Plot the data to identify its shape"
   ]
  },
  {
   "cell_type": "code",
   "execution_count": null,
   "metadata": {},
   "outputs": [],
   "source": [
    "fig, ax = plt.subplots()\n",
    "\n",
    "# Plot the features\n",
    "ax.scatter(X['Col1'],\n",
    "           X['Col2'],\n",
    "           marker = 'o',\n",
    "           alpha = 0.7,\n",
    "           s = 50,\n",
    "           color = 'black',\n",
    "           edgecolor = 'black');\n",
    "\n",
    "# Axis labels.\n",
    "ax.set_title('Raw Data')\n",
    "ax.set_xlabel(X.columns[0])\n",
    "ax.set_ylabel(X.columns[1])"
   ]
  },
  {
   "cell_type": "markdown",
   "metadata": {},
   "source": [
    "# Use a clustering model to label every row in the dataset"
   ]
  },
  {
   "cell_type": "code",
   "execution_count": null,
   "metadata": {},
   "outputs": [],
   "source": [
    "from sklearn.cluster import AgglomerativeClustering\n",
    "from sklearn.cluster import KMeans\n",
    "\n",
    "# Produce cluster labels.\n",
    "def get_cluster_labels(algorithm, cluster_count, X):\n",
    "    \n",
    "    # Determine which model to generate.\n",
    "    if algorithm == 'hac':\n",
    "        model = AgglomerativeClustering(n_clusters = cluster_count, linkage = 'single')\n",
    "    if algorithm == 'kmeans':\n",
    "        model = KMeans(n_clusters = cluster_count, init = 'k-means++', random_state = 42)\n",
    "    \n",
    "    model.fit(X)\n",
    "    cluster_labels = model.fit_predict(X)\n",
    "    \n",
    "    # Return the original DataFrame with the labels appended as a new column.\n",
    "    return cluster_labels\n",
    "\n",
    "print('Function to produce cluster labels has been defined.')"
   ]
  },
  {
   "cell_type": "markdown",
   "metadata": {},
   "source": [
    "# Plot the clusters"
   ]
  },
  {
   "cell_type": "code",
   "execution_count": null,
   "metadata": {},
   "outputs": [],
   "source": [
    "def plot_clusters():\n",
    "    \n",
    "    fig, ax = plt.subplots()\n",
    "\n",
    "    # Caption the various clusters.\n",
    "    colors = cm.nipy_spectral(cluster_labels.astype(float) / 2)\n",
    "\n",
    "    # Plot the features.\n",
    "    ax.scatter(X['Col1'],\n",
    "               X['Col2'],\n",
    "               marker = 'o',\n",
    "               alpha = 0.7,\n",
    "               s = 50,\n",
    "               color = colors,\n",
    "               edgecolor = 'black');\n",
    "\n",
    "    # Axis labels.\n",
    "    ax.set_title('Clustered Data')\n",
    "    ax.set_xlabel(X.columns[0])\n",
    "    ax.set_ylabel(X.columns[1])\n",
    "    \n",
    "print('Function to plot the clusters has been defined.')"
   ]
  },
  {
   "cell_type": "markdown",
   "metadata": {},
   "source": [
    "# Generate a *k*-means clustering model and plot the results"
   ]
  },
  {
   "cell_type": "code",
   "execution_count": null,
   "metadata": {},
   "outputs": [],
   "source": [
    "# Generate cluster labels for the moons data, assuming 2 clusters.\n",
    "cluster_labels = get_cluster_labels('kmeans', 2, X)\n",
    "\n",
    "# Append the cluster labels to a new column in the original dataset.\n",
    "labeled_data = X.assign(c_label = cluster_labels)\n",
    "\n",
    "# Show a preview of rows in the dataset with cluster labels added.\n",
    "display(labeled_data.head())\n",
    "\n",
    "plot_clusters()"
   ]
  },
  {
   "cell_type": "markdown",
   "metadata": {},
   "source": [
    "# Generate a hierarchical agglomerative clustering model and plot the results"
   ]
  },
  {
   "cell_type": "code",
   "execution_count": null,
   "metadata": {},
   "outputs": [],
   "source": [
    "# Generate cluster labels for the moons data, assuming 2 clusters.\n",
    "cluster_labels = get_cluster_labels('hac', 2, X)\n",
    "\n",
    "# Append the cluster labels to a new column in the original dataset.\n",
    "labeled_data = X.assign(c_label = cluster_labels)\n",
    "\n",
    "# Show a preview of rows in the dataset with cluster labels added.\n",
    "display(labeled_data.head())\n",
    "\n",
    "plot_clusters()"
   ]
  },
  {
   "cell_type": "markdown",
   "metadata": {},
   "source": [
    "# Use the elbow method to determine the optimal number of clusters"
   ]
  },
  {
   "cell_type": "code",
   "execution_count": null,
   "metadata": {},
   "outputs": [],
   "source": [
    "from yellowbrick.cluster import KElbowVisualizer\n",
    "\n",
    "# Use the elbow method to find the optimal number of clusters.\n",
    "plt.rcParams[\"figure.figsize\"] = (15, 7)\n",
    "\n",
    "visualizer = KElbowVisualizer(AgglomerativeClustering(linkage = 'single'), k = (1, 10))\n",
    "visualizer.fit(X)\n",
    "visualizer.poof();"
   ]
  },
  {
   "cell_type": "markdown",
   "metadata": {},
   "source": [
    "# Plot a dendrogram for additional cluster analysis"
   ]
  },
  {
   "cell_type": "code",
   "execution_count": null,
   "metadata": {},
   "outputs": [],
   "source": [
    "import scipy.cluster.hierarchy as sch\n",
    "\n",
    "# Specify same linkage used in training model.\n",
    "linkage = sch.linkage(X, method = 'single')\n",
    "\n",
    "def plot_dendro(cutoff = 0):\n",
    "    plt.figure(figsize = (10, 6))  \n",
    "    plt.title('Dendrogram')\n",
    "    plt.xlabel('Samples')\n",
    "    plt.ylabel('Distance')\n",
    "\n",
    "    # Truncate dendrogram x-axis so it's readable.\n",
    "    dendrogram = sch.dendrogram(Z = linkage, truncate_mode = 'lastp', p = 15, color_threshold = cutoff)\n",
    "    \n",
    "plot_dendro()"
   ]
  },
  {
   "cell_type": "code",
   "execution_count": null,
   "metadata": {},
   "outputs": [],
   "source": [
    "cutoff = .11\n",
    "\n",
    "plot_dendro(cutoff)\n",
    "\n",
    "# Plot cutoff line based on specified distance.\n",
    "plt.axhline(y = cutoff, color= 'black', linestyle = '--')"
   ]
  }
 ],
 "metadata": {
  "kernelspec": {
   "display_name": "Python 3",
   "language": "python",
   "name": "python3"
  },
  "language_info": {
   "codemirror_mode": {
    "name": "ipython",
    "version": 3
   },
   "file_extension": ".py",
   "mimetype": "text/x-python",
   "name": "python",
   "nbconvert_exporter": "python",
   "pygments_lexer": "ipython3",
   "version": "3.7.6"
  }
 },
 "nbformat": 4,
 "nbformat_minor": 2
}
