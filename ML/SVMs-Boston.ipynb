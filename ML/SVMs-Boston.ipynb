{
 "cells": [
  {
   "cell_type": "markdown",
   "metadata": {},
   "source": [
    "# Import software libraries and load the dataset #"
   ]
  },
  {
   "cell_type": "code",
   "execution_count": null,
   "metadata": {},
   "outputs": [],
   "source": [
    "import sys                             # Read system parameters.\n",
    "import numpy as np                     # Work with multi-dimensional arrays and matrices.\n",
    "import pandas as pd                    # Manipulate and analyze data.\n",
    "import matplotlib as mpl               # Create 2D charts.\n",
    "import matplotlib.pyplot as plt\n",
    "import seaborn as sb                   # Perform data visualization.\n",
    "import sklearn                         # Perform data mining and analysis.\n",
    "from sklearn import datasets\n",
    "\n",
    "# Summarize software libraries used.\n",
    "print('Libraries used in this project:')\n",
    "print('- Python {}'.format(sys.version))\n",
    "print('- NumPy {}'.format(np.__version__))\n",
    "print('- pandas {}'.format(pd.__version__))\n",
    "print('- Matplotlib {}'.format(mpl.__version__))\n",
    "print('- scikit-learn {}\\n'.format(sklearn.__version__))\n",
    "\n",
    "# Load the dataset.\n",
    "boston = datasets.load_boston()\n",
    "print('Loaded {} records.'.format(len(boston.data)))\n",
    "\n",
    "# Convert array to pandas DataFrame.\n",
    "data_raw = pd.DataFrame(boston['data'], columns = boston['feature_names'])\n",
    "data_raw['target'] = boston['target']"
   ]
  },
  {
   "cell_type": "markdown",
   "metadata": {},
   "source": [
    "# Drop columns that won't be used for training"
   ]
  },
  {
   "cell_type": "code",
   "execution_count": null,
   "metadata": {},
   "outputs": [],
   "source": [
    "# Drop column from dataset that shows weak correlation.\n",
    "def drop_unused(dataset):\n",
    "    \n",
    "    print('Columns before drop:\\n\\n{}\\n'.format(list(dataset.columns)))\n",
    "        \n",
    "    dataset = dataset.drop(['CHAS'], axis = 1)\n",
    "    \n",
    "    print('Columns after drop:\\n\\n{}\\n'.format(list(dataset.columns)))\n",
    "    return dataset\n",
    "\n",
    "data_raw = drop_unused(data_raw.copy())"
   ]
  },
  {
   "cell_type": "markdown",
   "metadata": {},
   "source": [
    "# Identify outliers"
   ]
  },
  {
   "cell_type": "code",
   "execution_count": null,
   "metadata": {},
   "outputs": [],
   "source": [
    "plt.figure(figsize = (20, 2))\n",
    "bplot = sb.boxplot(x = 'LSTAT', data = data_raw, orient = 'h', fliersize = 7)"
   ]
  },
  {
   "cell_type": "markdown",
   "metadata": {},
   "source": [
    "# Reduce the dimensionality of the dataset"
   ]
  },
  {
   "cell_type": "code",
   "execution_count": null,
   "metadata": {},
   "outputs": [],
   "source": [
    "X = boston['data'][:, [12]]  # Only use one feature (LSTAT).\n",
    "y = boston['target']\n",
    "\n",
    "print('Dataset dimensionality reduced.')"
   ]
  },
  {
   "cell_type": "markdown",
   "metadata": {},
   "source": [
    "# Examine a scatter plot of `LSTAT` and `MEDV`"
   ]
  },
  {
   "cell_type": "code",
   "execution_count": null,
   "metadata": {},
   "outputs": [],
   "source": [
    "plt.scatter(X, y, s = 40)\n",
    "    \n",
    "plt.xlabel(\"LSTAT\", fontsize = 13)\n",
    "plt.ylabel(\"MEDV\", fontsize = 13);"
   ]
  },
  {
   "cell_type": "markdown",
   "metadata": {},
   "source": [
    "# Plot a regression line for a given model"
   ]
  },
  {
   "cell_type": "code",
   "execution_count": null,
   "metadata": {},
   "outputs": [],
   "source": [
    "def plot_regression(X, y, model, is_svm):\n",
    "    plt.scatter(X, y, s = 40)\n",
    "    plt.xlabel(\"LSTAT\", fontsize = 13)\n",
    "    plt.ylabel(\"MEDV\", fontsize = 13)\n",
    "    \n",
    "    predict = model.predict(X)\n",
    "    \n",
    "    if is_svm == True:\n",
    "        # Calculate margins based on epsilon value.\n",
    "        high_margin = predict + model.epsilon\n",
    "        low_margin = predict - model.epsilon\n",
    "    \n",
    "        # Sort arrays for plotting.\n",
    "        X_sort, predict_sort, high_margin_sort, low_margin_sort = \\\n",
    "        zip(*sorted(zip(X, predict, high_margin, low_margin)))\n",
    "    \n",
    "        plt.plot(X_sort, predict_sort, c = 'r', linestyle = '-')  # Plot regression line.\n",
    "        plt.plot(X_sort, high_margin_sort, c = 'r', linestyle = '--')  # Plot upper margin.\n",
    "        plt.plot(X_sort, low_margin_sort, c = 'r', linestyle = '--')  # Plot lower margin.\n",
    "        \n",
    "        # Plot support vectors.\n",
    "        plt.scatter(X[model.support_], y[model.support_],\n",
    "                    s = 100, linewidth = 1, facecolors = 'none', edgecolors = 'k')\n",
    "        \n",
    "    else:\n",
    "        X_sort, predict_sort = \\\n",
    "        zip(*sorted(zip(X, predict)))\n",
    "        \n",
    "        plt.plot(X_sort, predict_sort, c = 'r', linestyle = '-')\n",
    "    \n",
    "    plt.show()\n",
    "    \n",
    "print('Function to plot the regression line has been defined.')"
   ]
  },
  {
   "cell_type": "markdown",
   "metadata": {},
   "source": [
    "# Train a basic linear regression model and plot its line of best fit"
   ]
  },
  {
   "cell_type": "code",
   "execution_count": null,
   "metadata": {},
   "outputs": [],
   "source": [
    "from sklearn.linear_model import LinearRegression\n",
    "\n",
    "lin_reg = LinearRegression()\n",
    "lin_reg.fit(X, y);\n",
    "\n",
    "plot_regression(X, y, lin_reg, False)"
   ]
  },
  {
   "cell_type": "markdown",
   "metadata": {},
   "source": [
    "# Train an SVM model and plot its regression line plus margins"
   ]
  },
  {
   "cell_type": "code",
   "execution_count": null,
   "metadata": {},
   "outputs": [],
   "source": [
    "from sklearn.svm import SVR\n",
    "\n",
    "svm = SVR(kernel = 'linear', epsilon = 5)\n",
    "svm.fit(X, y)\n",
    "\n",
    "plot_regression(X, y, svm, True)"
   ]
  },
  {
   "cell_type": "markdown",
   "metadata": {},
   "source": [
    "# Adjust the margins using a different `epsilon` value"
   ]
  },
  {
   "cell_type": "code",
   "execution_count": null,
   "metadata": {},
   "outputs": [],
   "source": [
    "svm = SVR(kernel = 'linear', epsilon = 15)\n",
    "svm.fit(X, y)\n",
    "\n",
    "plot_regression(X, y, svm, True)"
   ]
  },
  {
   "cell_type": "markdown",
   "metadata": {},
   "source": [
    "# Split the datasets"
   ]
  },
  {
   "cell_type": "code",
   "execution_count": null,
   "metadata": {},
   "outputs": [],
   "source": [
    "from sklearn.model_selection import train_test_split\n",
    "\n",
    "label_columns = ['target']\n",
    "\n",
    "# Split the training and test datasets and their labels.\n",
    "X_train, X_test, y_train, y_test = train_test_split(data_raw.loc[:, 'CRIM': 'LSTAT'],\n",
    "                                                                            data_raw[label_columns],\n",
    "                                                                            random_state = 2)\n",
    "\n",
    "print('Training and test datasets and their labels have been split.')"
   ]
  },
  {
   "cell_type": "markdown",
   "metadata": {},
   "source": [
    "# Standardize the features"
   ]
  },
  {
   "cell_type": "code",
   "execution_count": null,
   "metadata": {},
   "outputs": [],
   "source": [
    "def standardize(X):\n",
    "    result = X.copy()\n",
    "    \n",
    "    for feature in X.columns:\n",
    "        result[feature] = (X[feature] - X[feature].mean()) / X[feature].std()  # z-score formula.\n",
    "        \n",
    "    return result\n",
    "\n",
    "X_train = standardize(X_train)\n",
    "X_test = standardize(X_test)\n",
    "\n",
    "print('The features have been standardized.')"
   ]
  },
  {
   "cell_type": "markdown",
   "metadata": {},
   "source": [
    "# Evaluate an SVM model using a holdout test set"
   ]
  },
  {
   "cell_type": "code",
   "execution_count": null,
   "metadata": {},
   "outputs": [],
   "source": [
    "from sklearn.metrics import mean_squared_error as mse\n",
    "\n",
    "svm = SVR(kernel = 'linear', epsilon = 5)\n",
    "svm.fit(X_train, np.ravel(y_train))\n",
    "\n",
    "predict = svm.predict(X_test)\n",
    "\n",
    "# Calculate cost using the test data.\n",
    "cost = mse(y_test, predict)\n",
    "\n",
    "print('Cost (mean squared error): {:.2f}'.format(cost))"
   ]
  },
  {
   "cell_type": "markdown",
   "metadata": {},
   "source": [
    "# Optimize the SVM model with grid search and cross-validation"
   ]
  },
  {
   "cell_type": "code",
   "execution_count": null,
   "metadata": {
    "scrolled": false
   },
   "outputs": [],
   "source": [
    "from sklearn.model_selection import GridSearchCV\n",
    "\n",
    "svm = SVR(gamma = 'auto')\n",
    "\n",
    "grid = [{'kernel': ['linear', 'rbf', 'poly', 'sigmoid'],\n",
    "         'C': [0.01, 0.1, 1, 5, 10, 25, 50, 100],\n",
    "         'epsilon': [0.01, 0.1, 1, 5, 10, 25, 50, 100]}]\n",
    "\n",
    "search = GridSearchCV(svm, param_grid = grid, scoring = 'neg_mean_squared_error', cv = 5, iid = False)\n",
    "search.fit(X_train, np.ravel(y_train));\n",
    "\n",
    "print(search.best_params_)"
   ]
  },
  {
   "cell_type": "code",
   "execution_count": null,
   "metadata": {},
   "outputs": [],
   "source": [
    "predict = search.predict(X_test)\n",
    "\n",
    "cost = mse(y_test, predict)\n",
    "\n",
    "print('Cost (mean squared error): {:.2f}'.format(cost))"
   ]
  }
 ],
 "metadata": {
  "kernelspec": {
   "display_name": "Python 3",
   "language": "python",
   "name": "python3"
  },
  "language_info": {
   "codemirror_mode": {
    "name": "ipython",
    "version": 3
   },
   "file_extension": ".py",
   "mimetype": "text/x-python",
   "name": "python",
   "nbconvert_exporter": "python",
   "pygments_lexer": "ipython3",
   "version": "3.7.6"
  }
 },
 "nbformat": 4,
 "nbformat_minor": 2
}
